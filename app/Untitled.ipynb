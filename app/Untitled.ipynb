{
 "cells": [
  {
   "cell_type": "code",
   "execution_count": 2,
   "metadata": {},
   "outputs": [],
   "source": [
    "from pygments.lexers import get_all_lexers\n",
    "from pygments.styles import get_all_styles"
   ]
  },
  {
   "cell_type": "code",
   "execution_count": 4,
   "metadata": {},
   "outputs": [],
   "source": [
    "LEXERS = []\n",
    "for item in get_all_lexers():\n",
    "    if item[1]:\n",
    "        LEXERS.append(item)"
   ]
  },
  {
   "cell_type": "code",
   "execution_count": 9,
   "metadata": {},
   "outputs": [],
   "source": [
    "LANGUAGE_CHOICES = []\n",
    "for item in LEXERS:\n",
    "    cur_tuple = (item[1][0], item[0])\n",
    "    LANGUAGE_CHOICES.append(cur_tuple)\n",
    "LANGUAGE_CHOICES.sort()"
   ]
  },
  {
   "cell_type": "code",
   "execution_count": 10,
   "metadata": {
    "scrolled": false
   },
   "outputs": [
    {
     "name": "stdout",
     "output_type": "stream",
     "text": [
      "default\n",
      "emacs\n",
      "friendly\n",
      "colorful\n",
      "autumn\n",
      "murphy\n",
      "manni\n",
      "monokai\n",
      "perldoc\n",
      "pastie\n",
      "borland\n",
      "trac\n",
      "native\n",
      "fruity\n",
      "bw\n",
      "vim\n",
      "vs\n",
      "tango\n",
      "rrt\n",
      "xcode\n",
      "igor\n",
      "paraiso-light\n",
      "paraiso-dark\n",
      "lovelace\n",
      "algol\n",
      "algol_nu\n",
      "arduino\n",
      "rainbow_dash\n",
      "abap\n",
      "solarized-dark\n",
      "solarized-light\n",
      "sas\n",
      "stata\n",
      "stata-light\n",
      "stata-dark\n",
      "inkpot\n"
     ]
    }
   ],
   "source": [
    "STYLE_CHOICES = []\n",
    "for item in get_all_styles():\n",
    "    print(item)\n",
    "    cur_tuple = (item, item)\n",
    "    STYLE_CHOICES.append(cur_tuple)"
   ]
  },
  {
   "cell_type": "code",
   "execution_count": null,
   "metadata": {},
   "outputs": [],
   "source": []
  }
 ],
 "metadata": {
  "kernelspec": {
   "display_name": "Django Shell-Plus",
   "language": "python",
   "name": "django_extensions"
  },
  "language_info": {
   "codemirror_mode": {
    "name": "ipython",
    "version": 3
   },
   "file_extension": ".py",
   "mimetype": "text/x-python",
   "name": "python",
   "nbconvert_exporter": "python",
   "pygments_lexer": "ipython3",
   "version": "3.7.5"
  }
 },
 "nbformat": 4,
 "nbformat_minor": 4
}
